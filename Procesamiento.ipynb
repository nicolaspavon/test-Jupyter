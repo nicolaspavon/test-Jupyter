{
 "cells": [
  {
   "cell_type": "markdown",
   "metadata": {},
   "source": [
    "# Heading 1"
   ]
  },
  {
   "cell_type": "code",
   "execution_count": 1,
   "metadata": {
    "tags": [
     "hide_input"
    ]
   },
   "outputs": [],
   "source": [
    "# -*- coding: utf-8 -*-\n",
    "import pandas as pd\n",
    "import unidecode\n",
    "import os\n",
    "import requests\n",
    "from io import StringIO\n",
    "from chardet.universaldetector import UniversalDetector\n",
    "\n",
    "\n",
    "def detect_encoding(file_path):\n",
    "    detector = UniversalDetector()\n",
    "    detector.reset()\n",
    "    with open(file_path, mode='rb') as f:\n",
    "        for b in f:\n",
    "            detector.feed(b)\n",
    "            if detector.done: break\n",
    "    detector.close()\n",
    "    return detector.result['encoding']\n",
    "\n",
    "\n",
    "def to_upper_no_accents(column):  # normalizar todo una columna\n",
    "    if type(column[0]) == str:\n",
    "        new_column = column.str.upper()\n",
    "        new_column = new_column.apply(unidecode.unidecode)\n",
    "        return new_column\n",
    "    return column\n",
    "\n",
    "\n",
    "def edit_header(currentFile, oldHeader, newHeader):  # reemplazar el nombre erroneo de un header\n",
    "    currentFile.rename(columns={oldHeader: newHeader}, inplace=True)\n",
    "\n",
    "\n",
    "def edit_element(currentFile, column, wrongName, correctName):  # reemplazar las palabras erroneas en x columna\n",
    "    currentFile[column] = currentFile[column].replace(wrongName, correctName)\n",
    "    "
   ]
  },
  {
   "cell_type": "code",
   "execution_count": 2,
   "metadata": {
    "tags": [
     "hide_output"
    ]
   },
   "outputs": [
    {
     "name": "stderr",
     "output_type": "stream",
     "text": [
      "/Users/nicolaspavon/anaconda3/lib/python3.7/site-packages/urllib3/connectionpool.py:847: InsecureRequestWarning: Unverified HTTPS request is being made. Adding certificate verification is strongly advised. See: https://urllib3.readthedocs.io/en/latest/advanced-usage.html#ssl-warnings\n",
      "  InsecureRequestWarning)\n",
      "/Users/nicolaspavon/anaconda3/lib/python3.7/site-packages/urllib3/connectionpool.py:847: InsecureRequestWarning: Unverified HTTPS request is being made. Adding certificate verification is strongly advised. See: https://urllib3.readthedocs.io/en/latest/advanced-usage.html#ssl-warnings\n",
      "  InsecureRequestWarning)\n",
      "/Users/nicolaspavon/anaconda3/lib/python3.7/site-packages/urllib3/connectionpool.py:847: InsecureRequestWarning: Unverified HTTPS request is being made. Adding certificate verification is strongly advised. See: https://urllib3.readthedocs.io/en/latest/advanced-usage.html#ssl-warnings\n",
      "  InsecureRequestWarning)\n",
      "/Users/nicolaspavon/anaconda3/lib/python3.7/site-packages/urllib3/connectionpool.py:847: InsecureRequestWarning: Unverified HTTPS request is being made. Adding certificate verification is strongly advised. See: https://urllib3.readthedocs.io/en/latest/advanced-usage.html#ssl-warnings\n",
      "  InsecureRequestWarning)\n",
      "/Users/nicolaspavon/anaconda3/lib/python3.7/site-packages/urllib3/connectionpool.py:847: InsecureRequestWarning: Unverified HTTPS request is being made. Adding certificate verification is strongly advised. See: https://urllib3.readthedocs.io/en/latest/advanced-usage.html#ssl-warnings\n",
      "  InsecureRequestWarning)\n",
      "/Users/nicolaspavon/anaconda3/lib/python3.7/site-packages/urllib3/connectionpool.py:847: InsecureRequestWarning: Unverified HTTPS request is being made. Adding certificate verification is strongly advised. See: https://urllib3.readthedocs.io/en/latest/advanced-usage.html#ssl-warnings\n",
      "  InsecureRequestWarning)\n"
     ]
    }
   ],
   "source": [
    "#procesamiento tobilleras    \n",
    "url=\"https://catalogodatos.gub.uy/dataset/42291fb8-a6e2-4cd0-a328-1017269bfc03/resource/b97fc70c-5390-44fc-a30c-6981b608a56e/download/tobilleras-electrnicas-activas-por-departamento-2018.csv\"\n",
    "s=requests.get(url, verify=False)\n",
    "tobilleras = pd.read_csv(StringIO(s.content.decode(s.encoding)))\n",
    "tobilleras.columns = map(lambda x: unidecode.unidecode(x.upper()), tobilleras.columns)\n",
    "tobilleras = tobilleras.apply(to_upper_no_accents)    \n",
    "tobilleras.to_csv(\"Datos procesados/\" + os.path.basename(url.split(\"/\")[-1]), index=False)    \n",
    "    \n",
    "#procesamiento femicidios    \n",
    "url=\"https://catalogodatos.gub.uy/dataset/f3366093-23b2-4085-86ea-4ddf5306ef4f/resource/1324becb-1095-46ab-84bb-a0a56781f28a/download/femicidios-2018.csv\"\n",
    "s=requests.get(url, verify=False)\n",
    "femicidios = pd.read_csv(StringIO(s.content.decode(s.encoding)))\n",
    "femicidios.columns = map(lambda x: unidecode.unidecode(x.upper()), femicidios.columns)\n",
    "femicidios = femicidios.apply(to_upper_no_accents)      \n",
    "edit_element(femicidios, \"TIPO DE VINCULO\", \"MADRE\", \"FAMILIAR\")   \n",
    "edit_element(femicidios, \"TIPO DE VINCULO\", \"OTRO FAMILIAR\", \"FAMILIAR\")   \n",
    "edit_element(femicidios, \"TIPO DE VINCULO\", \"PADRE\", \"FAMILIAR\")   \n",
    "femicidios.to_csv(\"Datos procesados/\" + os.path.basename(url.split(\"/\")[-1]), index=False)\n",
    "\n",
    "#procesamiento homicidios_domesticos    \n",
    "url=\"https://catalogodatos.gub.uy/dataset/da0b8ae3-f228-4601-a04e-96c10a2f2819/resource/4084b15f-0014-43d8-a1e4-700eccbd7802/download/mi-homicidios-domesticos-a-mujeres-2018.csv\"\n",
    "s=requests.get(url, verify=False)\n",
    "homicidios_domesticos = pd.read_csv(StringIO(s.content.decode(\"utf-8\"))) # por alguna razon el \".encoding\" tira un encoding que no es :(\n",
    "homicidios_domesticos.columns = map(lambda x: unidecode.unidecode(x.upper()), homicidios_domesticos.columns)\n",
    "homicidios_domesticos = homicidios_domesticos.apply(to_upper_no_accents)      \n",
    "edit_element(homicidios_domesticos, \"SITUACION DEL VICTIMARIO\", \"FORMALIZADA\", \"FORMALIZADO\")   \n",
    "edit_element(homicidios_domesticos, \"TIPO DE ARMA EMPLEADA\", \"ARMA BLANCA O PUNZOCORTANTE\", \"CORTO / PUNZANTE\")   \n",
    "edit_element(homicidios_domesticos, \"LUGAR DEL HECHO\", \"DOMICILIO DE LA VICTIMA\", \"DOMICILIO VICTIMA\")\n",
    "edit_header(homicidios_domesticos, \"ANO\", \"ANIO\")\n",
    "homicidios_domesticos.to_csv(\"Datos procesados/\" + os.path.basename(url.split(\"/\")[-1]), index=False)\n",
    "\n",
    "#procesamiento violencia_domestica    \n",
    "url=\"https://catalogodatos.gub.uy/dataset/da0b8ae3-f228-4601-a04e-96c10a2f2819/resource/10cdfa22-7675-4871-8800-519641907aad/download/violencia-domestica-y-asociados-por-departamento-y-ao.csv\"\n",
    "s=requests.get(url, verify=False)\n",
    "violencia_domestica = pd.read_csv(StringIO(s.content.decode(s.encoding)))\n",
    "violencia_domestica.columns = map(lambda x: unidecode.unidecode(x.upper()), violencia_domestica.columns)\n",
    "violencia_domestica = violencia_domestica.apply(to_upper_no_accents)  \n",
    "violencia_domestica.to_csv(\"Datos procesados/\" + os.path.basename(url.split(\"/\")[-1]), index=False)\n",
    "\n",
    "#procesamiento delitos_sexuales_departamento \n",
    "url=\"https://catalogodatos.gub.uy/dataset/da0b8ae3-f228-4601-a04e-96c10a2f2819/resource/0fb86fab-7e0b-4b52-a254-af80fbf40344/download/delitos-sexuales-por-departamento-y-ao.csv\"\n",
    "s=requests.get(url, verify=False)\n",
    "delitos_sexuales_departamento = pd.read_csv(StringIO(s.content.decode(s.encoding)))\n",
    "delitos_sexuales_departamento.columns = map(lambda x: unidecode.unidecode(x.upper()), delitos_sexuales_departamento.columns)\n",
    "delitos_sexuales_departamento = delitos_sexuales_departamento.apply(to_upper_no_accents)  \n",
    "delitos_sexuales_departamento.to_csv(\"Datos procesados/\" + os.path.basename(url.split(\"/\")[-1]), index=False)\n",
    "\n",
    "#procesamiento delitos_sexuales_edad\n",
    "url=\"https://catalogodatos.gub.uy/dataset/da0b8ae3-f228-4601-a04e-96c10a2f2819/resource/ca16c580-3195-4320-a8bc-41e4664a90c4/download/delitos-sexuales-por-edad-y-ao.csv\"\n",
    "s=requests.get(url, verify=False)\n",
    "delitos_sexuales_edad = pd.read_csv(StringIO(s.content.decode(s.encoding)))\n",
    "delitos_sexuales_edad.columns = map(lambda x: unidecode.unidecode(x.upper()), delitos_sexuales_edad.columns)\n",
    "delitos_sexuales_edad = delitos_sexuales_edad.apply(to_upper_no_accents)  \n",
    "delitos_sexuales_edad.to_csv(\"Datos procesados/\" + os.path.basename(url.split(\"/\")[-1]), index=False)"
   ]
  },
  {
   "cell_type": "code",
   "execution_count": null,
   "metadata": {
    "scrolled": true
   },
   "outputs": [],
   "source": []
  }
 ],
 "metadata": {
  "celltoolbar": "Tags",
  "kernelspec": {
   "display_name": "Python 3",
   "language": "python",
   "name": "python3"
  },
  "language_info": {
   "codemirror_mode": {
    "name": "ipython",
    "version": 3
   },
   "file_extension": ".py",
   "mimetype": "text/x-python",
   "name": "python",
   "nbconvert_exporter": "python",
   "pygments_lexer": "ipython3",
   "version": "3.7.4"
  }
 },
 "nbformat": 4,
 "nbformat_minor": 2
}
